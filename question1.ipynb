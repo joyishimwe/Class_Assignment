{
 "cells": [
  {
   "cell_type": "code",
   "execution_count": null,
   "metadata": {},
   "outputs": [],
   "source": []
  },
  {
   "cell_type": "markdown",
   "metadata": {},
   "source": [
    "NAME: ISHIMWE   JOSIANE     21RP06922\n",
    "      UWABABYEYI JOYEUSE    21RP02233\n",
    "      ISHIMWE    JOYEUSE    21RP08174\n",
    "      \n",
    "      GROUP ASSIGNMENT"
   ]
  },
  {
   "cell_type": "markdown",
   "metadata": {},
   "source": [
    "\n",
    "1.\tPizza Toppings: Write a loop that prompts the user to enter a series of pizza toppings until they enter a 'quit' value. As they enter each topping, print a message saying you’ll add that topping to their pizza. \n"
   ]
  },
  {
   "cell_type": "code",
   "execution_count": 16,
   "metadata": {},
   "outputs": [
    {
     "name": "stdout",
     "output_type": "stream",
     "text": [
      "Adding gozzet to your pizza!\n",
      "Adding bugger to your pizza!\n"
     ]
    }
   ],
   "source": [
    "pizza_topping=[]\n",
    "while True:\n",
    "    \n",
    "    top=input(\"please enter your choice\")\n",
    "    if top==\"quit\":\n",
    "        break\n",
    "    print(f\"Adding {top} to your pizza!\")\n",
    "    for top in pizza_topping:\n",
    "        print(pizza_topping.append(top),\"top is added\")\n"
   ]
  },
  {
   "cell_type": "markdown",
   "metadata": {},
   "source": [
    "2.\tMovie Tickets: A movie theatre charges different ticket prices depending on a person’s age. If a person is under the age of 3, the ticket is free; if they are between 3 and 12, the ticket is $10; and if they are over age 12, the ticket is $15. Write a loop in which you ask users their age, and then tell them the cost of their movie ticket."
   ]
  },
  {
   "cell_type": "code",
   "execution_count": 1,
   "metadata": {},
   "outputs": [
    {
     "name": "stdout",
     "output_type": "stream",
     "text": [
      "age is 2 and fee isfree entry\n",
      "age is 5 and fee is$10\n",
      "age is 16 and fee is$15\n"
     ]
    }
   ],
   "source": [
    "fees=(\"free entry\",\"$10\",\"$15\")\n",
    "for fee in fees:\n",
    "    age=input(\"enter your age\")\n",
    "    age=int(age)\n",
    "    if age<=3:\n",
    "        print(f\"age is {age} and fee is{fees[0]}\")\n",
    "    elif age>=4 and age<=12:\n",
    "        print(f\"age is {age} and fee is{fees[1]}\")\n",
    "    else:\n",
    "         print(f\"age is {age} and fee is{fees[2]}\")"
   ]
  },
  {
   "cell_type": "markdown",
   "metadata": {},
   "source": [
    "3.\tThree Exits: Write different versions of either Exercise 1 or 2 that do each of the following at least once:\n",
    "\tUse a conditional test in the while statement to stop the loop.\n",
    "\t Use an active variable to control how long the loop runs.\n",
    "\tUse a break statement to exit the loop when the user enters a 'quit' value.\n"
   ]
  },
  {
   "cell_type": "code",
   "execution_count": null,
   "metadata": {},
   "outputs": [],
   "source": [
    "#question 1\n",
    "\n",
    "pizza_topping=[]\n",
    "while True:\n",
    "    \n",
    "    top=input(\"please enter your choice\")\n",
    "    if top==\"quit\":\n",
    "        break\n",
    "    print(f\"Adding {top} to your pizza!\")\n",
    "    for top in pizza_topping:\n",
    "        print(pizza_topping.append(top),\"top is added\")\n"
   ]
  },
  {
   "cell_type": "code",
   "execution_count": 3,
   "metadata": {},
   "outputs": [],
   "source": [
    "#question2\n",
    "while True:\n",
    "    age = input(\"please enter your age\")\n",
    "    if age == 'quit':\n",
    "        break\n",
    "    ages = int(age)\n",
    "\n",
    "    if ages <= 3:\n",
    "        print(f\"age is {ages}years, fee is free ticket\")\n",
    "     \n",
    "    elif ages > 3 and ages<=13:\n",
    "        print(f\"age is {ages}years, fee is $10\")\n",
    "      \n",
    "    else:\n",
    "        print(f\"age is {ages}years, fee is $15\")"
   ]
  },
  {
   "cell_type": "markdown",
   "metadata": {},
   "source": [
    "4.\tInfinity: Write a loop that never ends, and run it. (To end the loop, press CTRL-C or close the window displaying the output.) "
   ]
  },
  {
   "cell_type": "code",
   "execution_count": null,
   "metadata": {},
   "outputs": [],
   "source": [
    "while True:\n",
    "    print(\"welcome\")"
   ]
  },
  {
   "cell_type": "markdown",
   "metadata": {},
   "source": [
    "\n",
    "5.\tMake a list called sandwich_orders and fill it with the names of various sandwiches. Then make an empty list called finished_sandwiches. Loop through the list of sandwich orders and print a message for each order, such as I made your tuna sandwich. As each sandwich is made, move it to the list of finished sandwiches. After all the sandwiches have been made, print a message listing each sandwich that was made.\n"
   ]
  },
  {
   "cell_type": "code",
   "execution_count": null,
   "metadata": {},
   "outputs": [
    {
     "name": "stdout",
     "output_type": "stream",
     "text": [
      "I made your tuna sandwich.\n",
      "I made your turkey sandwich.\n",
      "I made your veggie sandwich.\n",
      "I made your ham and cheese sandwich.\n",
      "\n",
      "List of finished sandwiches:\n",
      "- tuna\n",
      "- turkey\n",
      "- veggie\n",
      "- ham and cheese\n"
     ]
    }
   ],
   "source": [
    "sandwich_orders = [\"tuna\", \"turkey\", \"veggie\", \"ham and cheese\"]\n",
    "finished_sandwiches = []\n",
    "\n",
    "while sandwich_orders:\n",
    "    current_order = sandwich_orders.pop(0)\n",
    "    print(f\"I made your {current_order} sandwich.\")\n",
    "    finished_sandwiches.append(current_order)\n",
    "\n",
    "print(\"\\nList of finished sandwiches:\")\n",
    "for sandwich in finished_sandwiches:\n",
    "    print(\"- \" + sandwich)"
   ]
  }
 ],
 "metadata": {
  "kernelspec": {
   "display_name": "Python 3",
   "language": "python",
   "name": "python3"
  },
  "language_info": {
   "codemirror_mode": {
    "name": "ipython",
    "version": 3
   },
   "file_extension": ".py",
   "mimetype": "text/x-python",
   "name": "python",
   "nbconvert_exporter": "python",
   "pygments_lexer": "ipython3",
   "version": "3.11.5"
  },
  "orig_nbformat": 4
 },
 "nbformat": 4,
 "nbformat_minor": 2
}
